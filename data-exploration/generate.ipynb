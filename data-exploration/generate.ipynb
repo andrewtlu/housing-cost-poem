{
 "cells": [
  {
   "cell_type": "markdown",
   "metadata": {},
   "source": [
    "# Data Aggregation & Summaries\n",
    "\n",
    "Use this Jupyter Notebook to take our initial dataset(s) and generate aggregate/reformatted/summarized CSVs usable by our frontend."
   ]
  },
  {
   "cell_type": "code",
   "execution_count": 1,
   "metadata": {},
   "outputs": [],
   "source": [
    "# imports and initial variables\n",
    "import pandas as pd\n",
    "import numpy as np\n",
    "\n",
    "dataset_name = \"census_tracts_processed.csv\"\n",
    "dataset_df = pd.read_csv(dataset_name)"
   ]
  },
  {
   "cell_type": "code",
   "execution_count": 2,
   "metadata": {},
   "outputs": [],
   "source": [
    "# create aggregate info for each county\n",
    "# GEOID consists of 11 digits, first 2 are state and next 3 are county\n",
    "# matches county ID in map\n",
    "df = dataset_df.copy()\n",
    "df[\"id\"] = df[\"geoid\"].astype(str).str[:5].astype(int)\n",
    "\n",
    "# calculate aggregates\n",
    "def mean_pos(x):\n",
    "    pos_vals = x[x > 0]\n",
    "    return np.round(np.mean(pos_vals), 2)\n",
    "\n",
    "def listify(x):\n",
    "    return list(set(x))\n",
    "    \n",
    "agg = {\n",
    "    \"median_income\": mean_pos,\n",
    "    \"median_home_value\": mean_pos,\n",
    "    \"name\": listify,\n",
    "    \"city\": lambda x: listify(x)[0],\n",
    "    \"metro_area\": lambda x: listify(x)[0],\n",
    "}\n",
    "agg_non_default = agg.keys()\n",
    "agg.update({\n",
    "    col: \"sum\" for col in df.columns if col not in [*agg_non_default, \"id\", \"geoid\"]\n",
    "})\n",
    "agg_df = df.groupby(\"id\").agg(agg).reset_index()\n",
    "\n",
    "# for tracts in agg_df[\"name\"]:\n",
    "#     county = None\n",
    "#     state = None\n",
    "#     for tract in tracts:\n",
    "#         s = tract.split(\", \")\n",
    "#         if county is None:\n",
    "#             county = s[1]\n",
    "#             state = s[2]\n",
    "#         else:\n",
    "#             assert county == s[1] and state == s[2], \"diff county detected! \" + county + state\n",
    "\n",
    "# extract data from name (county/state is clean, ie only one exists per name)\n",
    "agg_df[\"name\"] = agg_df[\"name\"].str[0]\n",
    "agg_df[\"tract_count\"] = len(agg_df[\"name\"])\n",
    "agg_df[[\"name\", \"county\", \"state\"]] = agg_df[\"name\"].str.split(\", \", expand=True)\n",
    "agg_df = agg_df.drop(columns=[\"name\"])\n",
    "\n",
    "# recalculate proportion 25 under\n",
    "agg_df[\"proportion_25_under\"] = agg_df[\"total_population_25_under\"] / agg_df[\"total_population\"]\n",
    "\n",
    "# reorder columns\n",
    "agg_df.insert(5, \"tract_count\", agg_df.pop(\"tract_count\"))\n",
    "agg_df.insert(5, \"state\", agg_df.pop(\"state\"))\n",
    "agg_df.insert(3, \"county\", agg_df.pop(\"county\"))\n",
    "\n",
    "# convert whole number fields to ints\n",
    "int_cols = [\"total_population\",\n",
    "       \"total_population_25_over\", \"educational_attainment\", \"white_alone\",\n",
    "       \"black_alone\", \"native_alone\", \"asian_alone\",\n",
    "       \"native_hawaiian_pacific_islander\", \"some_other_race_alone\",\n",
    "       \"two_or_more\", \"hispanic_or_latino\", \"total_population_25_under\"]\n",
    "agg_df[int_cols] = agg_df[int_cols].astype(int)\n",
    "\n",
    "# save df\n",
    "agg_df.to_csv(\"county_aggregated.csv\", index=False)\n",
    "\n",
    "# get json\n",
    "agg_df.to_json(\"county_aggregated.json\", orient=\"records\")"
   ]
  }
 ],
 "metadata": {
  "kernelspec": {
   "display_name": "venv",
   "language": "python",
   "name": "python3"
  },
  "language_info": {
   "codemirror_mode": {
    "name": "ipython",
    "version": 3
   },
   "file_extension": ".py",
   "mimetype": "text/x-python",
   "name": "python",
   "nbconvert_exporter": "python",
   "pygments_lexer": "ipython3",
   "version": "3.12.3"
  }
 },
 "nbformat": 4,
 "nbformat_minor": 2
}
